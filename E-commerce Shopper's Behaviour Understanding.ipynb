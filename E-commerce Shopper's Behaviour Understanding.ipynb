{
 "cells": [
  {
   "cell_type": "code",
   "execution_count": 1,
   "id": "88212de9",
   "metadata": {
    "_cell_guid": "b1076dfc-b9ad-4769-8c92-a6c4dae69d19",
    "_uuid": "8f2839f25d086af736a60e9eeb907d3b93b6e0e5",
    "execution": {
     "iopub.execute_input": "2023-03-30T06:14:22.040873Z",
     "iopub.status.busy": "2023-03-30T06:14:22.040233Z",
     "iopub.status.idle": "2023-03-30T06:14:22.059392Z",
     "shell.execute_reply": "2023-03-30T06:14:22.058095Z"
    },
    "papermill": {
     "duration": 0.033327,
     "end_time": "2023-03-30T06:14:22.063213",
     "exception": false,
     "start_time": "2023-03-30T06:14:22.029886",
     "status": "completed"
    },
    "tags": []
   },
   "outputs": [
    {
     "name": "stdout",
     "output_type": "stream",
     "text": [
      "/kaggle/input/e-commerce-shoppers-behaviour-understanding/test_data_v2.csv\n",
      "/kaggle/input/e-commerce-shoppers-behaviour-understanding/train_data_v2.csv\n",
      "/kaggle/input/e-commerce-shoppers-behaviour-understanding/sample.csv\n"
     ]
    }
   ],
   "source": [
    "# This Python 3 environment comes with many helpful analytics libraries installed\n",
    "# It is defined by the kaggle/python Docker image: https://github.com/kaggle/docker-python\n",
    "# For example, here's several helpful packages to load\n",
    "\n",
    "import numpy as np # linear algebra\n",
    "import pandas as pd # data processing, CSV file I/O (e.g. pd.read_csv)\n",
    "\n",
    "# Input data files are available in the read-only \"../input/\" directory\n",
    "# For example, running this (by clicking run or pressing Shift+Enter) will list all files under the input directory\n",
    "\n",
    "import os\n",
    "for dirname, _, filenames in os.walk('/kaggle/input'):\n",
    "    for filename in filenames:\n",
    "        print(os.path.join(dirname, filename))\n",
    "\n",
    "# You can write up to 20GB to the current directory (/kaggle/working/) that gets preserved as output when you create a version using \"Save & Run All\" \n",
    "# You can also write temporary files to /kaggle/temp/, but they won't be saved outside of the current session"
   ]
  },
  {
   "cell_type": "code",
   "execution_count": 2,
   "id": "99a5d58a",
   "metadata": {
    "execution": {
     "iopub.execute_input": "2023-03-30T06:14:22.080000Z",
     "iopub.status.busy": "2023-03-30T06:14:22.079024Z",
     "iopub.status.idle": "2023-03-30T06:14:23.254636Z",
     "shell.execute_reply": "2023-03-30T06:14:23.253508Z"
    },
    "papermill": {
     "duration": 1.186229,
     "end_time": "2023-03-30T06:14:23.257113",
     "exception": false,
     "start_time": "2023-03-30T06:14:22.070884",
     "status": "completed"
    },
    "tags": []
   },
   "outputs": [],
   "source": [
    "import pandas as pd\n",
    "import numpy as np\n",
    "\n",
    "from sklearn.pipeline import Pipeline\n",
    "from sklearn.impute import SimpleImputer,KNNImputer\n",
    "from sklearn.preprocessing import StandardScaler,MinMaxScaler\n",
    "from sklearn.preprocessing import OrdinalEncoder\n",
    "\n"
   ]
  },
  {
   "cell_type": "markdown",
   "id": "eb74d22c",
   "metadata": {
    "papermill": {
     "duration": 0.006559,
     "end_time": "2023-03-30T06:14:23.270719",
     "exception": false,
     "start_time": "2023-03-30T06:14:23.264160",
     "status": "completed"
    },
    "tags": []
   },
   "source": [
    "# **LOADING DATASETS**"
   ]
  },
  {
   "cell_type": "code",
   "execution_count": 3,
   "id": "3dbddf45",
   "metadata": {
    "execution": {
     "iopub.execute_input": "2023-03-30T06:14:23.286047Z",
     "iopub.status.busy": "2023-03-30T06:14:23.285634Z",
     "iopub.status.idle": "2023-03-30T06:14:23.430717Z",
     "shell.execute_reply": "2023-03-30T06:14:23.429328Z"
    },
    "papermill": {
     "duration": 0.156121,
     "end_time": "2023-03-30T06:14:23.433632",
     "exception": false,
     "start_time": "2023-03-30T06:14:23.277511",
     "status": "completed"
    },
    "tags": []
   },
   "outputs": [
    {
     "name": "stdout",
     "output_type": "stream",
     "text": [
      "True\n",
      "(14731, 21)\n",
      "<class 'pandas.core.frame.DataFrame'>\n"
     ]
    }
   ],
   "source": [
    "train_data=pd.read_csv(\"/kaggle/input/e-commerce-shoppers-behaviour-understanding/train_data_v2.csv\")\n",
    "test_data=pd.read_csv(\"/kaggle/input/e-commerce-shoppers-behaviour-understanding/test_data_v2.csv\")\n",
    "y_train=train_data[train_data.columns[-1]]\n",
    "x_train=train_data.drop(['Made_Purchase'],axis=1)\n",
    "x_test=test_data[test_data.columns]\n",
    "\n",
    "print(x_train.shape[1]==x_test.shape[1])\n",
    "print(x_train.shape)\n",
    "print(type(x_train))"
   ]
  },
  {
   "cell_type": "markdown",
   "id": "b9aac03e",
   "metadata": {
    "papermill": {
     "duration": 0.006881,
     "end_time": "2023-03-30T06:14:23.447866",
     "exception": false,
     "start_time": "2023-03-30T06:14:23.440985",
     "status": "completed"
    },
    "tags": []
   },
   "source": [
    "# **ANALYZING THE DATA**"
   ]
  },
  {
   "cell_type": "code",
   "execution_count": 4,
   "id": "92b7aaf5",
   "metadata": {
    "execution": {
     "iopub.execute_input": "2023-03-30T06:14:23.463658Z",
     "iopub.status.busy": "2023-03-30T06:14:23.462758Z",
     "iopub.status.idle": "2023-03-30T06:14:23.473718Z",
     "shell.execute_reply": "2023-03-30T06:14:23.472547Z"
    },
    "papermill": {
     "duration": 0.021379,
     "end_time": "2023-03-30T06:14:23.476068",
     "exception": false,
     "start_time": "2023-03-30T06:14:23.454689",
     "status": "completed"
    },
    "tags": []
   },
   "outputs": [
    {
     "data": {
      "text/plain": [
       "HomePage                           float64\n",
       "HomePage_Duration                  float64\n",
       "LandingPage                        float64\n",
       "LandingPage_Duration               float64\n",
       "ProductDescriptionPage             float64\n",
       "ProductDescriptionPage_Duration    float64\n",
       "GoogleMetric:Bounce Rates          float64\n",
       "GoogleMetric:Exit Rates            float64\n",
       "GoogleMetric:Page Values           float64\n",
       "SeasonalPurchase                   float64\n",
       "Month_SeasonalPurchase              object\n",
       "OS                                 float64\n",
       "SearchEngine                       float64\n",
       "Zone                               float64\n",
       "Type of Traffic                    float64\n",
       "CustomerType                        object\n",
       "Gender                              object\n",
       "Cookies Setting                     object\n",
       "Education                           object\n",
       "Marital Status                      object\n",
       "WeekendPurchase                    float64\n",
       "dtype: object"
      ]
     },
     "execution_count": 4,
     "metadata": {},
     "output_type": "execute_result"
    }
   ],
   "source": [
    "x_train.dtypes"
   ]
  },
  {
   "cell_type": "code",
   "execution_count": 5,
   "id": "550b7809",
   "metadata": {
    "execution": {
     "iopub.execute_input": "2023-03-30T06:14:23.491876Z",
     "iopub.status.busy": "2023-03-30T06:14:23.491494Z",
     "iopub.status.idle": "2023-03-30T06:14:23.515591Z",
     "shell.execute_reply": "2023-03-30T06:14:23.514000Z"
    },
    "papermill": {
     "duration": 0.035439,
     "end_time": "2023-03-30T06:14:23.518640",
     "exception": false,
     "start_time": "2023-03-30T06:14:23.483201",
     "status": "completed"
    },
    "tags": []
   },
   "outputs": [
    {
     "name": "stdout",
     "output_type": "stream",
     "text": [
      "<class 'pandas.core.frame.DataFrame'>\n",
      "RangeIndex: 14731 entries, 0 to 14730\n",
      "Data columns (total 21 columns):\n",
      " #   Column                           Non-Null Count  Dtype  \n",
      "---  ------                           --------------  -----  \n",
      " 0   HomePage                         14578 non-null  float64\n",
      " 1   HomePage_Duration                14581 non-null  float64\n",
      " 2   LandingPage                      14578 non-null  float64\n",
      " 3   LandingPage_Duration             14596 non-null  float64\n",
      " 4   ProductDescriptionPage           14608 non-null  float64\n",
      " 5   ProductDescriptionPage_Duration  14564 non-null  float64\n",
      " 6   GoogleMetric:Bounce Rates        14580 non-null  float64\n",
      " 7   GoogleMetric:Exit Rates          14602 non-null  float64\n",
      " 8   GoogleMetric:Page Values         14599 non-null  float64\n",
      " 9   SeasonalPurchase                 14581 non-null  float64\n",
      " 10  Month_SeasonalPurchase           14587 non-null  object \n",
      " 11  OS                               14597 non-null  float64\n",
      " 12  SearchEngine                     14609 non-null  float64\n",
      " 13  Zone                             14614 non-null  float64\n",
      " 14  Type of Traffic                  14588 non-null  float64\n",
      " 15  CustomerType                     14587 non-null  object \n",
      " 16  Gender                           14586 non-null  object \n",
      " 17  Cookies Setting                  14587 non-null  object \n",
      " 18  Education                        14595 non-null  object \n",
      " 19  Marital Status                   14601 non-null  object \n",
      " 20  WeekendPurchase                  14610 non-null  float64\n",
      "dtypes: float64(15), object(6)\n",
      "memory usage: 2.4+ MB\n"
     ]
    }
   ],
   "source": [
    "x_train.info()"
   ]
  },
  {
   "cell_type": "code",
   "execution_count": 6,
   "id": "19219c90",
   "metadata": {
    "execution": {
     "iopub.execute_input": "2023-03-30T06:14:23.537033Z",
     "iopub.status.busy": "2023-03-30T06:14:23.535758Z",
     "iopub.status.idle": "2023-03-30T06:14:23.608498Z",
     "shell.execute_reply": "2023-03-30T06:14:23.607197Z"
    },
    "papermill": {
     "duration": 0.084673,
     "end_time": "2023-03-30T06:14:23.610928",
     "exception": false,
     "start_time": "2023-03-30T06:14:23.526255",
     "status": "completed"
    },
    "tags": []
   },
   "outputs": [
    {
     "name": "stdout",
     "output_type": "stream",
     "text": [
      "HomePage                           float64\n",
      "HomePage_Duration                  float64\n",
      "LandingPage                        float64\n",
      "LandingPage_Duration               float64\n",
      "ProductDescriptionPage             float64\n",
      "ProductDescriptionPage_Duration    float64\n",
      "GoogleMetric:Bounce Rates          float64\n",
      "GoogleMetric:Exit Rates            float64\n",
      "GoogleMetric:Page Values           float64\n",
      "SeasonalPurchase                   float64\n",
      "Month_SeasonalPurchase              object\n",
      "OS                                 float64\n",
      "SearchEngine                       float64\n",
      "Zone                               float64\n",
      "Type of Traffic                    float64\n",
      "CustomerType                        object\n",
      "Gender                              object\n",
      "Cookies Setting                     object\n",
      "Education                           object\n",
      "Marital Status                      object\n",
      "WeekendPurchase                    float64\n",
      "dtype: object\n"
     ]
    },
    {
     "data": {
      "text/html": [
       "<div>\n",
       "<style scoped>\n",
       "    .dataframe tbody tr th:only-of-type {\n",
       "        vertical-align: middle;\n",
       "    }\n",
       "\n",
       "    .dataframe tbody tr th {\n",
       "        vertical-align: top;\n",
       "    }\n",
       "\n",
       "    .dataframe thead th {\n",
       "        text-align: right;\n",
       "    }\n",
       "</style>\n",
       "<table border=\"1\" class=\"dataframe\">\n",
       "  <thead>\n",
       "    <tr style=\"text-align: right;\">\n",
       "      <th></th>\n",
       "      <th>count</th>\n",
       "      <th>mean</th>\n",
       "      <th>std</th>\n",
       "      <th>min</th>\n",
       "      <th>25%</th>\n",
       "      <th>50%</th>\n",
       "      <th>75%</th>\n",
       "      <th>max</th>\n",
       "    </tr>\n",
       "  </thead>\n",
       "  <tbody>\n",
       "    <tr>\n",
       "      <th>HomePage</th>\n",
       "      <td>14578.0</td>\n",
       "      <td>2.250240</td>\n",
       "      <td>3.288042</td>\n",
       "      <td>0.0</td>\n",
       "      <td>0.000000</td>\n",
       "      <td>1.000000</td>\n",
       "      <td>3.000000</td>\n",
       "      <td>27.000000</td>\n",
       "    </tr>\n",
       "    <tr>\n",
       "      <th>HomePage_Duration</th>\n",
       "      <td>14581.0</td>\n",
       "      <td>79.300762</td>\n",
       "      <td>179.374699</td>\n",
       "      <td>0.0</td>\n",
       "      <td>0.000000</td>\n",
       "      <td>5.000000</td>\n",
       "      <td>91.000000</td>\n",
       "      <td>3398.750000</td>\n",
       "    </tr>\n",
       "    <tr>\n",
       "      <th>LandingPage</th>\n",
       "      <td>14578.0</td>\n",
       "      <td>0.490739</td>\n",
       "      <td>1.252376</td>\n",
       "      <td>0.0</td>\n",
       "      <td>0.000000</td>\n",
       "      <td>0.000000</td>\n",
       "      <td>0.000000</td>\n",
       "      <td>24.000000</td>\n",
       "    </tr>\n",
       "    <tr>\n",
       "      <th>LandingPage_Duration</th>\n",
       "      <td>14596.0</td>\n",
       "      <td>33.455943</td>\n",
       "      <td>140.146256</td>\n",
       "      <td>0.0</td>\n",
       "      <td>0.000000</td>\n",
       "      <td>0.000000</td>\n",
       "      <td>0.000000</td>\n",
       "      <td>2549.375000</td>\n",
       "    </tr>\n",
       "    <tr>\n",
       "      <th>ProductDescriptionPage</th>\n",
       "      <td>14608.0</td>\n",
       "      <td>31.559488</td>\n",
       "      <td>44.897089</td>\n",
       "      <td>0.0</td>\n",
       "      <td>7.000000</td>\n",
       "      <td>17.500000</td>\n",
       "      <td>38.000000</td>\n",
       "      <td>705.000000</td>\n",
       "    </tr>\n",
       "    <tr>\n",
       "      <th>ProductDescriptionPage_Duration</th>\n",
       "      <td>14564.0</td>\n",
       "      <td>1184.346084</td>\n",
       "      <td>2009.496307</td>\n",
       "      <td>0.0</td>\n",
       "      <td>173.187500</td>\n",
       "      <td>584.333333</td>\n",
       "      <td>1434.255128</td>\n",
       "      <td>63973.522230</td>\n",
       "    </tr>\n",
       "    <tr>\n",
       "      <th>GoogleMetric:Bounce Rates</th>\n",
       "      <td>14580.0</td>\n",
       "      <td>0.023366</td>\n",
       "      <td>0.050011</td>\n",
       "      <td>0.0</td>\n",
       "      <td>0.000000</td>\n",
       "      <td>0.003478</td>\n",
       "      <td>0.018182</td>\n",
       "      <td>0.200000</td>\n",
       "    </tr>\n",
       "    <tr>\n",
       "      <th>GoogleMetric:Exit Rates</th>\n",
       "      <td>14602.0</td>\n",
       "      <td>0.044664</td>\n",
       "      <td>0.049912</td>\n",
       "      <td>0.0</td>\n",
       "      <td>0.014502</td>\n",
       "      <td>0.026406</td>\n",
       "      <td>0.050000</td>\n",
       "      <td>0.200000</td>\n",
       "    </tr>\n",
       "    <tr>\n",
       "      <th>GoogleMetric:Page Values</th>\n",
       "      <td>14599.0</td>\n",
       "      <td>4.812620</td>\n",
       "      <td>16.887366</td>\n",
       "      <td>0.0</td>\n",
       "      <td>0.000000</td>\n",
       "      <td>0.000000</td>\n",
       "      <td>0.000000</td>\n",
       "      <td>361.763742</td>\n",
       "    </tr>\n",
       "    <tr>\n",
       "      <th>SeasonalPurchase</th>\n",
       "      <td>14581.0</td>\n",
       "      <td>0.064083</td>\n",
       "      <td>0.202583</td>\n",
       "      <td>0.0</td>\n",
       "      <td>0.000000</td>\n",
       "      <td>0.000000</td>\n",
       "      <td>0.000000</td>\n",
       "      <td>1.000000</td>\n",
       "    </tr>\n",
       "    <tr>\n",
       "      <th>OS</th>\n",
       "      <td>14597.0</td>\n",
       "      <td>2.122422</td>\n",
       "      <td>0.914404</td>\n",
       "      <td>1.0</td>\n",
       "      <td>2.000000</td>\n",
       "      <td>2.000000</td>\n",
       "      <td>3.000000</td>\n",
       "      <td>8.000000</td>\n",
       "    </tr>\n",
       "    <tr>\n",
       "      <th>SearchEngine</th>\n",
       "      <td>14609.0</td>\n",
       "      <td>2.356629</td>\n",
       "      <td>1.721823</td>\n",
       "      <td>1.0</td>\n",
       "      <td>2.000000</td>\n",
       "      <td>2.000000</td>\n",
       "      <td>2.000000</td>\n",
       "      <td>13.000000</td>\n",
       "    </tr>\n",
       "    <tr>\n",
       "      <th>Zone</th>\n",
       "      <td>14614.0</td>\n",
       "      <td>3.155673</td>\n",
       "      <td>2.405155</td>\n",
       "      <td>1.0</td>\n",
       "      <td>1.000000</td>\n",
       "      <td>3.000000</td>\n",
       "      <td>4.000000</td>\n",
       "      <td>9.000000</td>\n",
       "    </tr>\n",
       "    <tr>\n",
       "      <th>Type of Traffic</th>\n",
       "      <td>14588.0</td>\n",
       "      <td>4.090143</td>\n",
       "      <td>4.040147</td>\n",
       "      <td>1.0</td>\n",
       "      <td>2.000000</td>\n",
       "      <td>2.000000</td>\n",
       "      <td>4.000000</td>\n",
       "      <td>20.000000</td>\n",
       "    </tr>\n",
       "    <tr>\n",
       "      <th>WeekendPurchase</th>\n",
       "      <td>14610.0</td>\n",
       "      <td>0.234155</td>\n",
       "      <td>0.423484</td>\n",
       "      <td>0.0</td>\n",
       "      <td>0.000000</td>\n",
       "      <td>0.000000</td>\n",
       "      <td>0.000000</td>\n",
       "      <td>1.000000</td>\n",
       "    </tr>\n",
       "  </tbody>\n",
       "</table>\n",
       "</div>"
      ],
      "text/plain": [
       "                                   count         mean          std  min  \\\n",
       "HomePage                         14578.0     2.250240     3.288042  0.0   \n",
       "HomePage_Duration                14581.0    79.300762   179.374699  0.0   \n",
       "LandingPage                      14578.0     0.490739     1.252376  0.0   \n",
       "LandingPage_Duration             14596.0    33.455943   140.146256  0.0   \n",
       "ProductDescriptionPage           14608.0    31.559488    44.897089  0.0   \n",
       "ProductDescriptionPage_Duration  14564.0  1184.346084  2009.496307  0.0   \n",
       "GoogleMetric:Bounce Rates        14580.0     0.023366     0.050011  0.0   \n",
       "GoogleMetric:Exit Rates          14602.0     0.044664     0.049912  0.0   \n",
       "GoogleMetric:Page Values         14599.0     4.812620    16.887366  0.0   \n",
       "SeasonalPurchase                 14581.0     0.064083     0.202583  0.0   \n",
       "OS                               14597.0     2.122422     0.914404  1.0   \n",
       "SearchEngine                     14609.0     2.356629     1.721823  1.0   \n",
       "Zone                             14614.0     3.155673     2.405155  1.0   \n",
       "Type of Traffic                  14588.0     4.090143     4.040147  1.0   \n",
       "WeekendPurchase                  14610.0     0.234155     0.423484  0.0   \n",
       "\n",
       "                                        25%         50%          75%  \\\n",
       "HomePage                           0.000000    1.000000     3.000000   \n",
       "HomePage_Duration                  0.000000    5.000000    91.000000   \n",
       "LandingPage                        0.000000    0.000000     0.000000   \n",
       "LandingPage_Duration               0.000000    0.000000     0.000000   \n",
       "ProductDescriptionPage             7.000000   17.500000    38.000000   \n",
       "ProductDescriptionPage_Duration  173.187500  584.333333  1434.255128   \n",
       "GoogleMetric:Bounce Rates          0.000000    0.003478     0.018182   \n",
       "GoogleMetric:Exit Rates            0.014502    0.026406     0.050000   \n",
       "GoogleMetric:Page Values           0.000000    0.000000     0.000000   \n",
       "SeasonalPurchase                   0.000000    0.000000     0.000000   \n",
       "OS                                 2.000000    2.000000     3.000000   \n",
       "SearchEngine                       2.000000    2.000000     2.000000   \n",
       "Zone                               1.000000    3.000000     4.000000   \n",
       "Type of Traffic                    2.000000    2.000000     4.000000   \n",
       "WeekendPurchase                    0.000000    0.000000     0.000000   \n",
       "\n",
       "                                          max  \n",
       "HomePage                            27.000000  \n",
       "HomePage_Duration                 3398.750000  \n",
       "LandingPage                         24.000000  \n",
       "LandingPage_Duration              2549.375000  \n",
       "ProductDescriptionPage             705.000000  \n",
       "ProductDescriptionPage_Duration  63973.522230  \n",
       "GoogleMetric:Bounce Rates            0.200000  \n",
       "GoogleMetric:Exit Rates              0.200000  \n",
       "GoogleMetric:Page Values           361.763742  \n",
       "SeasonalPurchase                     1.000000  \n",
       "OS                                   8.000000  \n",
       "SearchEngine                        13.000000  \n",
       "Zone                                 9.000000  \n",
       "Type of Traffic                     20.000000  \n",
       "WeekendPurchase                      1.000000  "
      ]
     },
     "execution_count": 6,
     "metadata": {},
     "output_type": "execute_result"
    }
   ],
   "source": [
    "result=x_train.dtypes\n",
    "print(result)\n",
    "x_train.describe().T\n"
   ]
  },
  {
   "cell_type": "code",
   "execution_count": 7,
   "id": "f3cb9e75",
   "metadata": {
    "execution": {
     "iopub.execute_input": "2023-03-30T06:14:23.628415Z",
     "iopub.status.busy": "2023-03-30T06:14:23.627345Z",
     "iopub.status.idle": "2023-03-30T06:14:23.635615Z",
     "shell.execute_reply": "2023-03-30T06:14:23.634562Z"
    },
    "papermill": {
     "duration": 0.019237,
     "end_time": "2023-03-30T06:14:23.637845",
     "exception": false,
     "start_time": "2023-03-30T06:14:23.618608",
     "status": "completed"
    },
    "tags": []
   },
   "outputs": [
    {
     "data": {
      "text/plain": [
       "15"
      ]
     },
     "execution_count": 7,
     "metadata": {},
     "output_type": "execute_result"
    }
   ],
   "source": [
    "num_feature=['HomePage',\n",
    " 'HomePage_Duration',\n",
    " 'LandingPage',\n",
    " 'LandingPage_Duration',\n",
    " 'ProductDescriptionPage',\n",
    " 'ProductDescriptionPage_Duration',\n",
    " 'GoogleMetric:Bounce Rates',\n",
    " 'GoogleMetric:Exit Rates',\n",
    " 'GoogleMetric:Page Values',\n",
    " 'SeasonalPurchase',\n",
    " 'OS',\n",
    " 'SearchEngine',\n",
    " 'Zone',\n",
    " 'Type of Traffic',\n",
    " 'WeekendPurchase']\n",
    "cat_features=['Month_SeasonalPurchase',\n",
    " 'CustomerType',\n",
    " 'Gender',\n",
    " 'Cookies Setting',\n",
    " 'Education',\n",
    " 'Marital Status']\n",
    "\n",
    "len(num_feature)\n"
   ]
  },
  {
   "cell_type": "markdown",
   "id": "8fcbf92c",
   "metadata": {
    "papermill": {
     "duration": 0.007282,
     "end_time": "2023-03-30T06:14:23.652872",
     "exception": false,
     "start_time": "2023-03-30T06:14:23.645590",
     "status": "completed"
    },
    "tags": []
   },
   "source": [
    "# **FILLING MISSING VALUES IN CATEGORIAL VARIABLES**"
   ]
  },
  {
   "cell_type": "code",
   "execution_count": 8,
   "id": "5fc6dc18",
   "metadata": {
    "execution": {
     "iopub.execute_input": "2023-03-30T06:14:23.669626Z",
     "iopub.status.busy": "2023-03-30T06:14:23.669201Z",
     "iopub.status.idle": "2023-03-30T06:14:23.684169Z",
     "shell.execute_reply": "2023-03-30T06:14:23.683048Z"
    },
    "papermill": {
     "duration": 0.026725,
     "end_time": "2023-03-30T06:14:23.687097",
     "exception": false,
     "start_time": "2023-03-30T06:14:23.660372",
     "status": "completed"
    },
    "tags": []
   },
   "outputs": [
    {
     "name": "stdout",
     "output_type": "stream",
     "text": [
      "Month_SeasonalPurchase : ['Feb' 'Mar' 'May' 'Oct' 'June' 'Jul' 'Aug' 'Nov' 'Sep' 'Dec' nan]\n",
      "Month_SeasonalPurchase : ['Feb' 'Mar' 'May' 'June' 'Oct' 'Nov' 'Sep' 'Aug' 'Jul' 'Dec' nan]\n",
      "CustomerType : ['Returning_Visitor' 'New_Visitor' 'Other' nan]\n",
      "CustomerType : ['Returning_Visitor' 'New_Visitor' 'Other' nan]\n",
      "Gender : ['Not Specified' 'Female' 'Male' nan]\n",
      "Gender : ['Not Specified' 'Female' 'Male' nan]\n",
      "Cookies Setting : ['Deny' 'ALL' 'Required' nan]\n",
      "Cookies Setting : ['Deny' 'ALL' 'Required' nan]\n",
      "Education : ['Not Specified' 'Others' 'Diploma' 'Graduate' nan]\n",
      "Education : ['Not Specified' 'Graduate' 'Diploma' 'Others' nan]\n",
      "Marital Status : ['Other' 'Married' 'Single' nan]\n",
      "Marital Status : ['Single' 'Married' 'Other' nan]\n"
     ]
    }
   ],
   "source": [
    "for i in cat_features:\n",
    "    #print(type(x_train))\n",
    "    print(i,\":\",x_train[i].unique())\n",
    "    print(i,\":\",x_test[i].unique())"
   ]
  },
  {
   "cell_type": "code",
   "execution_count": 9,
   "id": "0d0e1fb3",
   "metadata": {
    "execution": {
     "iopub.execute_input": "2023-03-30T06:14:23.704921Z",
     "iopub.status.busy": "2023-03-30T06:14:23.704537Z",
     "iopub.status.idle": "2023-03-30T06:14:23.748383Z",
     "shell.execute_reply": "2023-03-30T06:14:23.747258Z"
    },
    "papermill": {
     "duration": 0.055676,
     "end_time": "2023-03-30T06:14:23.750710",
     "exception": false,
     "start_time": "2023-03-30T06:14:23.695034",
     "status": "completed"
    },
    "tags": []
   },
   "outputs": [
    {
     "name": "stdout",
     "output_type": "stream",
     "text": [
      "HomePage                           153\n",
      "HomePage_Duration                  150\n",
      "LandingPage                        153\n",
      "LandingPage_Duration               135\n",
      "ProductDescriptionPage             123\n",
      "ProductDescriptionPage_Duration    167\n",
      "GoogleMetric:Bounce Rates          151\n",
      "GoogleMetric:Exit Rates            129\n",
      "GoogleMetric:Page Values           132\n",
      "SeasonalPurchase                   150\n",
      "Month_SeasonalPurchase               0\n",
      "OS                                 134\n",
      "SearchEngine                       122\n",
      "Zone                               117\n",
      "Type of Traffic                    143\n",
      "CustomerType                         0\n",
      "Gender                               0\n",
      "Cookies Setting                      0\n",
      "Education                            0\n",
      "Marital Status                       0\n",
      "WeekendPurchase                    121\n",
      "dtype: int64\n",
      "HomePage                           51\n",
      "HomePage_Duration                  55\n",
      "LandingPage                        56\n",
      "LandingPage_Duration               75\n",
      "ProductDescriptionPage             58\n",
      "ProductDescriptionPage_Duration    63\n",
      "GoogleMetric:Bounce Rates          66\n",
      "GoogleMetric:Exit Rates            51\n",
      "GoogleMetric:Page Values           45\n",
      "SeasonalPurchase                   45\n",
      "Month_SeasonalPurchase              0\n",
      "OS                                 62\n",
      "SearchEngine                       58\n",
      "Zone                               47\n",
      "Type of Traffic                    68\n",
      "CustomerType                        0\n",
      "Gender                              0\n",
      "Cookies Setting                     0\n",
      "Education                           0\n",
      "Marital Status                      0\n",
      "WeekendPurchase                    58\n",
      "dtype: int64\n"
     ]
    }
   ],
   "source": [
    "for i in cat_features:\n",
    "    a=str(x_train[i].mode())\n",
    "    b=str(x_test[i].mode())\n",
    "    x_train[i]=x_train[i].fillna(a)\n",
    "    x_test[i]=x_test[i].fillna(b)\n",
    "print(x_train.isnull().sum())\n",
    "print(x_test.isnull().sum())"
   ]
  },
  {
   "cell_type": "markdown",
   "id": "3f6d9a45",
   "metadata": {
    "papermill": {
     "duration": 0.007677,
     "end_time": "2023-03-30T06:14:23.766234",
     "exception": false,
     "start_time": "2023-03-30T06:14:23.758557",
     "status": "completed"
    },
    "tags": []
   },
   "source": [
    "# **CONVERTNG CATEGORICAL TO NUMERICAL VARIABLES**"
   ]
  },
  {
   "cell_type": "code",
   "execution_count": 10,
   "id": "56406b40",
   "metadata": {
    "execution": {
     "iopub.execute_input": "2023-03-30T06:14:23.783998Z",
     "iopub.status.busy": "2023-03-30T06:14:23.783165Z",
     "iopub.status.idle": "2023-03-30T06:14:23.838845Z",
     "shell.execute_reply": "2023-03-30T06:14:23.837680Z"
    },
    "papermill": {
     "duration": 0.067541,
     "end_time": "2023-03-30T06:14:23.841648",
     "exception": false,
     "start_time": "2023-03-30T06:14:23.774107",
     "status": "completed"
    },
    "tags": []
   },
   "outputs": [],
   "source": [
    "for i in cat_features:\n",
    "    a=pd.get_dummies(x_train[i])\n",
    "    x_train=x_train.drop([i],axis=1)\n",
    "    x_train=pd.concat([x_train,a],axis=1,join=\"inner\").reindex(x_train.index)\n"
   ]
  },
  {
   "cell_type": "code",
   "execution_count": 11,
   "id": "d540dbf1",
   "metadata": {
    "execution": {
     "iopub.execute_input": "2023-03-30T06:14:23.861043Z",
     "iopub.status.busy": "2023-03-30T06:14:23.860347Z",
     "iopub.status.idle": "2023-03-30T06:14:23.892395Z",
     "shell.execute_reply": "2023-03-30T06:14:23.891356Z"
    },
    "papermill": {
     "duration": 0.045587,
     "end_time": "2023-03-30T06:14:23.895185",
     "exception": false,
     "start_time": "2023-03-30T06:14:23.849598",
     "status": "completed"
    },
    "tags": []
   },
   "outputs": [],
   "source": [
    "for i in cat_features:\n",
    "    a=pd.get_dummies(x_test[i])\n",
    "    x_test=x_test.drop([i],axis=1)\n",
    "    x_test=pd.concat([x_test,a],axis=1,join=\"inner\").reindex(x_test.index)"
   ]
  },
  {
   "cell_type": "markdown",
   "id": "39b2a944",
   "metadata": {
    "papermill": {
     "duration": 0.008011,
     "end_time": "2023-03-30T06:14:23.911157",
     "exception": false,
     "start_time": "2023-03-30T06:14:23.903146",
     "status": "completed"
    },
    "tags": []
   },
   "source": [
    "# **HANDLING MISSING VALUES AND SCALING THE DATA**"
   ]
  },
  {
   "cell_type": "code",
   "execution_count": 12,
   "id": "8b74e29c",
   "metadata": {
    "execution": {
     "iopub.execute_input": "2023-03-30T06:14:23.928742Z",
     "iopub.status.busy": "2023-03-30T06:14:23.927937Z",
     "iopub.status.idle": "2023-03-30T06:14:23.986186Z",
     "shell.execute_reply": "2023-03-30T06:14:23.985056Z"
    },
    "papermill": {
     "duration": 0.069774,
     "end_time": "2023-03-30T06:14:23.988665",
     "exception": false,
     "start_time": "2023-03-30T06:14:23.918891",
     "status": "completed"
    },
    "tags": []
   },
   "outputs": [
    {
     "data": {
      "text/plain": [
       "(0     0\n",
       " 1     0\n",
       " 2     0\n",
       " 3     0\n",
       " 4     0\n",
       " 5     0\n",
       " 6     0\n",
       " 7     0\n",
       " 8     0\n",
       " 9     0\n",
       " 10    0\n",
       " 11    0\n",
       " 12    0\n",
       " 13    0\n",
       " 14    0\n",
       " 15    0\n",
       " 16    0\n",
       " 17    0\n",
       " 18    0\n",
       " 19    0\n",
       " 20    0\n",
       " 21    0\n",
       " 22    0\n",
       " 23    0\n",
       " 24    0\n",
       " 25    0\n",
       " 26    0\n",
       " 27    0\n",
       " 28    0\n",
       " 29    0\n",
       " 30    0\n",
       " 31    0\n",
       " 32    0\n",
       " 33    0\n",
       " 34    0\n",
       " 35    0\n",
       " 36    0\n",
       " 37    0\n",
       " 38    0\n",
       " 39    0\n",
       " 40    0\n",
       " 41    0\n",
       " 42    0\n",
       " 43    0\n",
       " 44    0\n",
       " 45    0\n",
       " 46    0\n",
       " dtype: int64,\n",
       " 0     0\n",
       " 1     0\n",
       " 2     0\n",
       " 3     0\n",
       " 4     0\n",
       " 5     0\n",
       " 6     0\n",
       " 7     0\n",
       " 8     0\n",
       " 9     0\n",
       " 10    0\n",
       " 11    0\n",
       " 12    0\n",
       " 13    0\n",
       " 14    0\n",
       " 15    0\n",
       " 16    0\n",
       " 17    0\n",
       " 18    0\n",
       " 19    0\n",
       " 20    0\n",
       " 21    0\n",
       " 22    0\n",
       " 23    0\n",
       " 24    0\n",
       " 25    0\n",
       " 26    0\n",
       " 27    0\n",
       " 28    0\n",
       " 29    0\n",
       " 30    0\n",
       " 31    0\n",
       " 32    0\n",
       " 33    0\n",
       " 34    0\n",
       " 35    0\n",
       " 36    0\n",
       " 37    0\n",
       " 38    0\n",
       " 39    0\n",
       " 40    0\n",
       " 41    0\n",
       " 42    0\n",
       " 43    0\n",
       " 44    0\n",
       " 45    0\n",
       " 46    0\n",
       " dtype: int64)"
      ]
     },
     "execution_count": 12,
     "metadata": {},
     "output_type": "execute_result"
    }
   ],
   "source": [
    "si=SimpleImputer(strategy=\"mean\")\n",
    "x_train=si.fit_transform(x_train)\n",
    "x_test=si.fit_transform(x_test)\n",
    "\n",
    "ss=StandardScaler()\n",
    "x_train=ss.fit_transform(x_train)\n",
    "x_test=ss.fit_transform(x_test)\n",
    "\n",
    "#Checking for NULL Values\n",
    "df1=pd.DataFrame(x_train)\n",
    "df2=pd.DataFrame(x_test)\n",
    "df1.isnull().sum(),df2.isnull().sum()"
   ]
  },
  {
   "cell_type": "code",
   "execution_count": 13,
   "id": "995364fe",
   "metadata": {
    "execution": {
     "iopub.execute_input": "2023-03-30T06:14:24.006451Z",
     "iopub.status.busy": "2023-03-30T06:14:24.006006Z",
     "iopub.status.idle": "2023-03-30T06:14:24.010757Z",
     "shell.execute_reply": "2023-03-30T06:14:24.009929Z"
    },
    "papermill": {
     "duration": 0.016111,
     "end_time": "2023-03-30T06:14:24.012811",
     "exception": false,
     "start_time": "2023-03-30T06:14:23.996700",
     "status": "completed"
    },
    "tags": []
   },
   "outputs": [],
   "source": [
    "y_train=y_train.astype(int)"
   ]
  },
  {
   "cell_type": "code",
   "execution_count": 14,
   "id": "0d17fa55",
   "metadata": {
    "execution": {
     "iopub.execute_input": "2023-03-30T06:14:24.031433Z",
     "iopub.status.busy": "2023-03-30T06:14:24.030816Z",
     "iopub.status.idle": "2023-03-30T06:14:24.037332Z",
     "shell.execute_reply": "2023-03-30T06:14:24.036365Z"
    },
    "papermill": {
     "duration": 0.018212,
     "end_time": "2023-03-30T06:14:24.039560",
     "exception": false,
     "start_time": "2023-03-30T06:14:24.021348",
     "status": "completed"
    },
    "tags": []
   },
   "outputs": [
    {
     "data": {
      "text/plain": [
       "0"
      ]
     },
     "execution_count": 14,
     "metadata": {},
     "output_type": "execute_result"
    }
   ],
   "source": [
    "y_train.head()\n",
    "y_train.isna().sum()"
   ]
  },
  {
   "cell_type": "markdown",
   "id": "2d408ceb",
   "metadata": {
    "papermill": {
     "duration": 0.007812,
     "end_time": "2023-03-30T06:14:24.055416",
     "exception": false,
     "start_time": "2023-03-30T06:14:24.047604",
     "status": "completed"
    },
    "tags": []
   },
   "source": [
    "# **LOGISTIC REGRESSION**"
   ]
  },
  {
   "cell_type": "code",
   "execution_count": 15,
   "id": "04a4d943",
   "metadata": {
    "execution": {
     "iopub.execute_input": "2023-03-30T06:14:24.073497Z",
     "iopub.status.busy": "2023-03-30T06:14:24.073103Z",
     "iopub.status.idle": "2023-03-30T06:14:24.135518Z",
     "shell.execute_reply": "2023-03-30T06:14:24.134272Z"
    },
    "papermill": {
     "duration": 0.075087,
     "end_time": "2023-03-30T06:14:24.138513",
     "exception": false,
     "start_time": "2023-03-30T06:14:24.063426",
     "status": "completed"
    },
    "tags": []
   },
   "outputs": [
    {
     "name": "stdout",
     "output_type": "stream",
     "text": [
      "0.6586110922544295\n"
     ]
    }
   ],
   "source": [
    "from sklearn.linear_model import LogisticRegression \n",
    "\n",
    "model1 = LogisticRegression(random_state=42)\n",
    "\n",
    "classifier1 = model1.fit(x_train,y_train)\n",
    "\n",
    "score1 = model1.score(x_train,y_train)\n",
    "\n",
    "train_pred1 = model1.predict(x_train)\n",
    "\n",
    "test_pred1 = model1.predict(x_test)\n",
    "\n",
    "print(score1)"
   ]
  },
  {
   "cell_type": "markdown",
   "id": "21b14e12",
   "metadata": {
    "papermill": {
     "duration": 0.01268,
     "end_time": "2023-03-30T06:14:24.164466",
     "exception": false,
     "start_time": "2023-03-30T06:14:24.151786",
     "status": "completed"
    },
    "tags": []
   },
   "source": [
    "# **RANDOMFORESTCLASSIFIER** "
   ]
  },
  {
   "cell_type": "code",
   "execution_count": 16,
   "id": "6eae5d03",
   "metadata": {
    "execution": {
     "iopub.execute_input": "2023-03-30T06:14:24.196382Z",
     "iopub.status.busy": "2023-03-30T06:14:24.195795Z",
     "iopub.status.idle": "2023-03-30T06:14:28.586180Z",
     "shell.execute_reply": "2023-03-30T06:14:28.584800Z"
    },
    "papermill": {
     "duration": 4.407577,
     "end_time": "2023-03-30T06:14:28.588703",
     "exception": false,
     "start_time": "2023-03-30T06:14:24.181126",
     "status": "completed"
    },
    "tags": []
   },
   "outputs": [
    {
     "name": "stdout",
     "output_type": "stream",
     "text": [
      "0.8107392573484489\n"
     ]
    },
    {
     "data": {
      "text/plain": [
       "0.7259681541183408"
      ]
     },
     "execution_count": 16,
     "metadata": {},
     "output_type": "execute_result"
    }
   ],
   "source": [
    "from sklearn.ensemble import RandomForestClassifier\n",
    "from sklearn.metrics import accuracy_score,f1_score,r2_score\n",
    "model2 = RandomForestClassifier() \n",
    "\n",
    "\n",
    "classifier2 = model2.fit(x_train,y_train)\n",
    "\n",
    "score2 = model2.score(x_train,y_train)\n",
    "\n",
    "train_pred2 = model2.predict(x_train)\n",
    "\n",
    "y_test_pred2 = model2.predict(x_test)\n",
    "\n",
    "print(score2)\n",
    "\n",
    "f1_score(y_train,train_pred2)\n"
   ]
  },
  {
   "cell_type": "markdown",
   "id": "01f19378",
   "metadata": {
    "papermill": {
     "duration": 0.008048,
     "end_time": "2023-03-30T06:14:28.605075",
     "exception": false,
     "start_time": "2023-03-30T06:14:28.597027",
     "status": "completed"
    },
    "tags": []
   },
   "source": [
    "# **KNeighborsClassifer**"
   ]
  },
  {
   "cell_type": "code",
   "execution_count": 17,
   "id": "be15edbe",
   "metadata": {
    "execution": {
     "iopub.execute_input": "2023-03-30T06:14:28.623547Z",
     "iopub.status.busy": "2023-03-30T06:14:28.623144Z",
     "iopub.status.idle": "2023-03-30T06:14:40.195863Z",
     "shell.execute_reply": "2023-03-30T06:14:40.194437Z"
    },
    "papermill": {
     "duration": 11.584831,
     "end_time": "2023-03-30T06:14:40.198290",
     "exception": false,
     "start_time": "2023-03-30T06:14:28.613459",
     "status": "completed"
    },
    "tags": []
   },
   "outputs": [
    {
     "name": "stdout",
     "output_type": "stream",
     "text": [
      "0.6945896408933542\n"
     ]
    },
    {
     "data": {
      "text/plain": [
       "0.5043516580367964"
      ]
     },
     "execution_count": 17,
     "metadata": {},
     "output_type": "execute_result"
    }
   ],
   "source": [
    "from sklearn.neighbors import KNeighborsClassifier\n",
    "\n",
    "model3=KNeighborsClassifier()\n",
    "\n",
    "classifier3 = model3.fit(x_train,y_train)\n",
    "\n",
    "score3 = model3.score(x_train,y_train)\n",
    "\n",
    "train_pred3 = model3.predict(x_train)\n",
    "\n",
    "y_test_pred3 = model3.predict(x_test)\n",
    "\n",
    "print(score3)\n",
    "\n",
    "f1_score(y_train,train_pred3)"
   ]
  },
  {
   "cell_type": "markdown",
   "id": "9205f877",
   "metadata": {
    "papermill": {
     "duration": 0.008292,
     "end_time": "2023-03-30T06:14:40.215342",
     "exception": false,
     "start_time": "2023-03-30T06:14:40.207050",
     "status": "completed"
    },
    "tags": []
   },
   "source": [
    "# **Support Vector Classifier**"
   ]
  },
  {
   "cell_type": "code",
   "execution_count": 18,
   "id": "789a9e43",
   "metadata": {
    "execution": {
     "iopub.execute_input": "2023-03-30T06:14:40.234810Z",
     "iopub.status.busy": "2023-03-30T06:14:40.233660Z",
     "iopub.status.idle": "2023-03-30T06:15:42.219470Z",
     "shell.execute_reply": "2023-03-30T06:15:42.218259Z"
    },
    "papermill": {
     "duration": 62.006997,
     "end_time": "2023-03-30T06:15:42.230756",
     "exception": false,
     "start_time": "2023-03-30T06:14:40.223759",
     "status": "completed"
    },
    "tags": []
   },
   "outputs": [
    {
     "name": "stdout",
     "output_type": "stream",
     "text": [
      "0.6761251781956419\n"
     ]
    },
    {
     "data": {
      "text/plain": [
       "0.3425657985393413"
      ]
     },
     "execution_count": 18,
     "metadata": {},
     "output_type": "execute_result"
    }
   ],
   "source": [
    "from sklearn.svm import SVC\n",
    "model4 = SVC()\n",
    "classifier4 = model4.fit(x_train,y_train)\n",
    "\n",
    "score4 = model4.score(x_train,y_train)\n",
    "\n",
    "train_pred4 = model4.predict(x_train)\n",
    "\n",
    "y_test_pred4 = model4.predict(x_test)\n",
    "\n",
    "print(score4)\n",
    "\n",
    "f1_score(y_train,train_pred4)"
   ]
  },
  {
   "cell_type": "code",
   "execution_count": 19,
   "id": "8726706e",
   "metadata": {
    "execution": {
     "iopub.execute_input": "2023-03-30T06:15:42.250183Z",
     "iopub.status.busy": "2023-03-30T06:15:42.249769Z",
     "iopub.status.idle": "2023-03-30T06:16:07.897568Z",
     "shell.execute_reply": "2023-03-30T06:16:07.896369Z"
    },
    "papermill": {
     "duration": 25.660436,
     "end_time": "2023-03-30T06:16:07.899912",
     "exception": false,
     "start_time": "2023-03-30T06:15:42.239476",
     "status": "completed"
    },
    "tags": []
   },
   "outputs": [
    {
     "name": "stdout",
     "output_type": "stream",
     "text": [
      "0.6761251781956419\n"
     ]
    }
   ],
   "source": [
    "test_pred5 = model4.predict(x_test)\n",
    "train_pred5=model4.predict(x_train)\n",
    "print(accuracy_score(y_train,train_pred5))"
   ]
  },
  {
   "cell_type": "code",
   "execution_count": 20,
   "id": "012f3d3c",
   "metadata": {
    "execution": {
     "iopub.execute_input": "2023-03-30T06:16:07.919966Z",
     "iopub.status.busy": "2023-03-30T06:16:07.918917Z",
     "iopub.status.idle": "2023-03-30T06:16:07.953213Z",
     "shell.execute_reply": "2023-03-30T06:16:07.951814Z"
    },
    "papermill": {
     "duration": 0.047319,
     "end_time": "2023-03-30T06:16:07.956221",
     "exception": false,
     "start_time": "2023-03-30T06:16:07.908902",
     "status": "completed"
    },
    "tags": []
   },
   "outputs": [
    {
     "name": "stdout",
     "output_type": "stream",
     "text": [
      "id                 1\n",
      "Made_Purchase    681\n",
      "dtype: int64 id                  1\n",
      "Made_Purchase    5918\n",
      "dtype: int64\n"
     ]
    }
   ],
   "source": [
    "submission=pd.DataFrame(columns=['id','Made_Purchase'])\n",
    "submission['id']=[i for i in range(len(test_pred5))]\n",
    "submission['Made_Purchase']=test_pred5.astype(bool)\n",
    "submission.to_csv('submission.csv',index=False)\n",
    "\n",
    "\n",
    "print(submission[submission==True].count(),submission[submission==False].count())\n"
   ]
  },
  {
   "cell_type": "markdown",
   "id": "8cf28841",
   "metadata": {
    "papermill": {
     "duration": 0.008661,
     "end_time": "2023-03-30T06:16:07.974127",
     "exception": false,
     "start_time": "2023-03-30T06:16:07.965466",
     "status": "completed"
    },
    "tags": []
   },
   "source": []
  }
 ],
 "metadata": {
  "kernelspec": {
   "display_name": "Python 3",
   "language": "python",
   "name": "python3"
  },
  "language_info": {
   "codemirror_mode": {
    "name": "ipython",
    "version": 3
   },
   "file_extension": ".py",
   "mimetype": "text/x-python",
   "name": "python",
   "nbconvert_exporter": "python",
   "pygments_lexer": "ipython3",
   "version": "3.7.12"
  },
  "papermill": {
   "default_parameters": {},
   "duration": 116.130714,
   "end_time": "2023-03-30T06:16:08.703778",
   "environment_variables": {},
   "exception": null,
   "input_path": "__notebook__.ipynb",
   "output_path": "__notebook__.ipynb",
   "parameters": {},
   "start_time": "2023-03-30T06:14:12.573064",
   "version": "2.3.4"
  }
 },
 "nbformat": 4,
 "nbformat_minor": 5
}
